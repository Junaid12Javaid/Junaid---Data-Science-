{
 "cells": [
  {
   "cell_type": "code",
   "execution_count": 1,
   "id": "dbb15516",
   "metadata": {
    "_cell_guid": "b1076dfc-b9ad-4769-8c92-a6c4dae69d19",
    "_uuid": "8f2839f25d086af736a60e9eeb907d3b93b6e0e5",
    "execution": {
     "iopub.execute_input": "2022-02-06T18:48:30.838102Z",
     "iopub.status.busy": "2022-02-06T18:48:30.837101Z",
     "iopub.status.idle": "2022-02-06T18:48:30.861723Z",
     "shell.execute_reply": "2022-02-06T18:48:30.861100Z",
     "shell.execute_reply.started": "2022-02-06T17:50:52.548042Z"
    },
    "papermill": {
     "duration": 0.048277,
     "end_time": "2022-02-06T18:48:30.861858",
     "exception": false,
     "start_time": "2022-02-06T18:48:30.813581",
     "status": "completed"
    },
    "tags": []
   },
   "outputs": [
    {
     "name": "stdout",
     "output_type": "stream",
     "text": [
      "/kaggle/input/superdata/Superstoredata.csv\n"
     ]
    }
   ],
   "source": [
    "# This Python 3 environment comes with many helpful analytics libraries installed\n",
    "# It is defined by the kaggle/python Docker image: https://github.com/kaggle/docker-python\n",
    "# For example, here's several helpful packages to load\n",
    "\n",
    "import numpy as np # linear algebra\n",
    "import pandas as pd # data processing, CSV file I/O (e.g. pd.read_csv)\n",
    "\n",
    "# Input data files are available in the read-only \"../input/\" directory\n",
    "# For example, running this (by clicking run or pressing Shift+Enter) will list all files under the input directory\n",
    "\n",
    "import os\n",
    "for dirname, _, filenames in os.walk('/kaggle/input'):\n",
    "    for filename in filenames:\n",
    "        print(os.path.join(dirname, filename))\n",
    "\n",
    "# You can write up to 20GB to the current directory (/kaggle/working/) that gets preserved as output when you create a version using \"Save & Run All\" \n",
    "# You can also write temporary files to /kaggle/temp/, but they won't be saved outside of the current session"
   ]
  },
  {
   "cell_type": "code",
   "execution_count": 2,
   "id": "99eff4fe",
   "metadata": {
    "execution": {
     "iopub.execute_input": "2022-02-06T18:48:30.905084Z",
     "iopub.status.busy": "2022-02-06T18:48:30.904563Z",
     "iopub.status.idle": "2022-02-06T18:48:30.909736Z",
     "shell.execute_reply": "2022-02-06T18:48:30.910212Z",
     "shell.execute_reply.started": "2022-02-06T17:50:52.564765Z"
    },
    "papermill": {
     "duration": 0.027798,
     "end_time": "2022-02-06T18:48:30.910385",
     "exception": false,
     "start_time": "2022-02-06T18:48:30.882587",
     "status": "completed"
    },
    "tags": []
   },
   "outputs": [
    {
     "name": "stdout",
     "output_type": "stream",
     "text": [
      "/kaggle/input/superdata/Superstoredata.csv\n"
     ]
    }
   ],
   "source": [
    "import os\n",
    "for dirname, _, filenames in os.walk('/kaggle/input'):\n",
    "    for filename in filenames:\n",
    "        print(os.path.join(dirname, filename))"
   ]
  },
  {
   "cell_type": "code",
   "execution_count": 3,
   "id": "a27be787",
   "metadata": {
    "_kg_hide-input": true,
    "execution": {
     "iopub.execute_input": "2022-02-06T18:48:30.950826Z",
     "iopub.status.busy": "2022-02-06T18:48:30.950345Z",
     "iopub.status.idle": "2022-02-06T18:48:31.050523Z",
     "shell.execute_reply": "2022-02-06T18:48:31.049981Z",
     "shell.execute_reply.started": "2022-02-06T17:50:52.575184Z"
    },
    "papermill": {
     "duration": 0.121549,
     "end_time": "2022-02-06T18:48:31.050782",
     "exception": true,
     "start_time": "2022-02-06T18:48:30.929233",
     "status": "failed"
    },
    "tags": []
   },
   "outputs": [
    {
     "ename": "UnicodeDecodeError",
     "evalue": "'utf-8' codec can't decode byte 0x99 in position 443: invalid start byte",
     "output_type": "error",
     "traceback": [
      "\u001b[0;31m---------------------------------------------------------------------------\u001b[0m",
      "\u001b[0;31mUnicodeDecodeError\u001b[0m                        Traceback (most recent call last)",
      "\u001b[0;32m/tmp/ipykernel_19/3139449416.py\u001b[0m in \u001b[0;36m<module>\u001b[0;34m\u001b[0m\n\u001b[1;32m      1\u001b[0m \u001b[0mFile\u001b[0m  \u001b[0;34m=\u001b[0m \u001b[0;34m'../input/superdata/Superstoredata.csv'\u001b[0m\u001b[0;34m\u001b[0m\u001b[0;34m\u001b[0m\u001b[0m\n\u001b[0;32m----> 2\u001b[0;31m \u001b[0mdf\u001b[0m \u001b[0;34m=\u001b[0m \u001b[0mpd\u001b[0m\u001b[0;34m.\u001b[0m\u001b[0mread_csv\u001b[0m\u001b[0;34m(\u001b[0m\u001b[0mFile\u001b[0m\u001b[0;34m)\u001b[0m\u001b[0;34m\u001b[0m\u001b[0;34m\u001b[0m\u001b[0m\n\u001b[0m\u001b[1;32m      3\u001b[0m \u001b[0;34m\u001b[0m\u001b[0m\n\u001b[1;32m      4\u001b[0m \u001b[0;32mimport\u001b[0m \u001b[0mchardet\u001b[0m\u001b[0;34m\u001b[0m\u001b[0;34m\u001b[0m\u001b[0m\n\u001b[1;32m      5\u001b[0m \u001b[0;32mwith\u001b[0m \u001b[0mopen\u001b[0m\u001b[0;34m(\u001b[0m\u001b[0mFile\u001b[0m\u001b[0;34m,\u001b[0m\u001b[0;34m'rb'\u001b[0m\u001b[0;34m)\u001b[0m \u001b[0;32mas\u001b[0m \u001b[0mrawdata\u001b[0m\u001b[0;34m:\u001b[0m\u001b[0;34m\u001b[0m\u001b[0;34m\u001b[0m\u001b[0m\n",
      "\u001b[0;32m/opt/conda/lib/python3.7/site-packages/pandas/util/_decorators.py\u001b[0m in \u001b[0;36mwrapper\u001b[0;34m(*args, **kwargs)\u001b[0m\n\u001b[1;32m    309\u001b[0m                     \u001b[0mstacklevel\u001b[0m\u001b[0;34m=\u001b[0m\u001b[0mstacklevel\u001b[0m\u001b[0;34m,\u001b[0m\u001b[0;34m\u001b[0m\u001b[0;34m\u001b[0m\u001b[0m\n\u001b[1;32m    310\u001b[0m                 )\n\u001b[0;32m--> 311\u001b[0;31m             \u001b[0;32mreturn\u001b[0m \u001b[0mfunc\u001b[0m\u001b[0;34m(\u001b[0m\u001b[0;34m*\u001b[0m\u001b[0margs\u001b[0m\u001b[0;34m,\u001b[0m \u001b[0;34m**\u001b[0m\u001b[0mkwargs\u001b[0m\u001b[0;34m)\u001b[0m\u001b[0;34m\u001b[0m\u001b[0;34m\u001b[0m\u001b[0m\n\u001b[0m\u001b[1;32m    312\u001b[0m \u001b[0;34m\u001b[0m\u001b[0m\n\u001b[1;32m    313\u001b[0m         \u001b[0;32mreturn\u001b[0m \u001b[0mwrapper\u001b[0m\u001b[0;34m\u001b[0m\u001b[0;34m\u001b[0m\u001b[0m\n",
      "\u001b[0;32m/opt/conda/lib/python3.7/site-packages/pandas/io/parsers/readers.py\u001b[0m in \u001b[0;36mread_csv\u001b[0;34m(filepath_or_buffer, sep, delimiter, header, names, index_col, usecols, squeeze, prefix, mangle_dupe_cols, dtype, engine, converters, true_values, false_values, skipinitialspace, skiprows, skipfooter, nrows, na_values, keep_default_na, na_filter, verbose, skip_blank_lines, parse_dates, infer_datetime_format, keep_date_col, date_parser, dayfirst, cache_dates, iterator, chunksize, compression, thousands, decimal, lineterminator, quotechar, quoting, doublequote, escapechar, comment, encoding, encoding_errors, dialect, error_bad_lines, warn_bad_lines, on_bad_lines, delim_whitespace, low_memory, memory_map, float_precision, storage_options)\u001b[0m\n\u001b[1;32m    584\u001b[0m     \u001b[0mkwds\u001b[0m\u001b[0;34m.\u001b[0m\u001b[0mupdate\u001b[0m\u001b[0;34m(\u001b[0m\u001b[0mkwds_defaults\u001b[0m\u001b[0;34m)\u001b[0m\u001b[0;34m\u001b[0m\u001b[0;34m\u001b[0m\u001b[0m\n\u001b[1;32m    585\u001b[0m \u001b[0;34m\u001b[0m\u001b[0m\n\u001b[0;32m--> 586\u001b[0;31m     \u001b[0;32mreturn\u001b[0m \u001b[0m_read\u001b[0m\u001b[0;34m(\u001b[0m\u001b[0mfilepath_or_buffer\u001b[0m\u001b[0;34m,\u001b[0m \u001b[0mkwds\u001b[0m\u001b[0;34m)\u001b[0m\u001b[0;34m\u001b[0m\u001b[0;34m\u001b[0m\u001b[0m\n\u001b[0m\u001b[1;32m    587\u001b[0m \u001b[0;34m\u001b[0m\u001b[0m\n\u001b[1;32m    588\u001b[0m \u001b[0;34m\u001b[0m\u001b[0m\n",
      "\u001b[0;32m/opt/conda/lib/python3.7/site-packages/pandas/io/parsers/readers.py\u001b[0m in \u001b[0;36m_read\u001b[0;34m(filepath_or_buffer, kwds)\u001b[0m\n\u001b[1;32m    480\u001b[0m \u001b[0;34m\u001b[0m\u001b[0m\n\u001b[1;32m    481\u001b[0m     \u001b[0;31m# Create the parser.\u001b[0m\u001b[0;34m\u001b[0m\u001b[0;34m\u001b[0m\u001b[0;34m\u001b[0m\u001b[0m\n\u001b[0;32m--> 482\u001b[0;31m     \u001b[0mparser\u001b[0m \u001b[0;34m=\u001b[0m \u001b[0mTextFileReader\u001b[0m\u001b[0;34m(\u001b[0m\u001b[0mfilepath_or_buffer\u001b[0m\u001b[0;34m,\u001b[0m \u001b[0;34m**\u001b[0m\u001b[0mkwds\u001b[0m\u001b[0;34m)\u001b[0m\u001b[0;34m\u001b[0m\u001b[0;34m\u001b[0m\u001b[0m\n\u001b[0m\u001b[1;32m    483\u001b[0m \u001b[0;34m\u001b[0m\u001b[0m\n\u001b[1;32m    484\u001b[0m     \u001b[0;32mif\u001b[0m \u001b[0mchunksize\u001b[0m \u001b[0;32mor\u001b[0m \u001b[0miterator\u001b[0m\u001b[0;34m:\u001b[0m\u001b[0;34m\u001b[0m\u001b[0;34m\u001b[0m\u001b[0m\n",
      "\u001b[0;32m/opt/conda/lib/python3.7/site-packages/pandas/io/parsers/readers.py\u001b[0m in \u001b[0;36m__init__\u001b[0;34m(self, f, engine, **kwds)\u001b[0m\n\u001b[1;32m    809\u001b[0m             \u001b[0mself\u001b[0m\u001b[0;34m.\u001b[0m\u001b[0moptions\u001b[0m\u001b[0;34m[\u001b[0m\u001b[0;34m\"has_index_names\"\u001b[0m\u001b[0;34m]\u001b[0m \u001b[0;34m=\u001b[0m \u001b[0mkwds\u001b[0m\u001b[0;34m[\u001b[0m\u001b[0;34m\"has_index_names\"\u001b[0m\u001b[0;34m]\u001b[0m\u001b[0;34m\u001b[0m\u001b[0;34m\u001b[0m\u001b[0m\n\u001b[1;32m    810\u001b[0m \u001b[0;34m\u001b[0m\u001b[0m\n\u001b[0;32m--> 811\u001b[0;31m         \u001b[0mself\u001b[0m\u001b[0;34m.\u001b[0m\u001b[0m_engine\u001b[0m \u001b[0;34m=\u001b[0m \u001b[0mself\u001b[0m\u001b[0;34m.\u001b[0m\u001b[0m_make_engine\u001b[0m\u001b[0;34m(\u001b[0m\u001b[0mself\u001b[0m\u001b[0;34m.\u001b[0m\u001b[0mengine\u001b[0m\u001b[0;34m)\u001b[0m\u001b[0;34m\u001b[0m\u001b[0;34m\u001b[0m\u001b[0m\n\u001b[0m\u001b[1;32m    812\u001b[0m \u001b[0;34m\u001b[0m\u001b[0m\n\u001b[1;32m    813\u001b[0m     \u001b[0;32mdef\u001b[0m \u001b[0mclose\u001b[0m\u001b[0;34m(\u001b[0m\u001b[0mself\u001b[0m\u001b[0;34m)\u001b[0m\u001b[0;34m:\u001b[0m\u001b[0;34m\u001b[0m\u001b[0;34m\u001b[0m\u001b[0m\n",
      "\u001b[0;32m/opt/conda/lib/python3.7/site-packages/pandas/io/parsers/readers.py\u001b[0m in \u001b[0;36m_make_engine\u001b[0;34m(self, engine)\u001b[0m\n\u001b[1;32m   1038\u001b[0m             )\n\u001b[1;32m   1039\u001b[0m         \u001b[0;31m# error: Too many arguments for \"ParserBase\"\u001b[0m\u001b[0;34m\u001b[0m\u001b[0;34m\u001b[0m\u001b[0;34m\u001b[0m\u001b[0m\n\u001b[0;32m-> 1040\u001b[0;31m         \u001b[0;32mreturn\u001b[0m \u001b[0mmapping\u001b[0m\u001b[0;34m[\u001b[0m\u001b[0mengine\u001b[0m\u001b[0;34m]\u001b[0m\u001b[0;34m(\u001b[0m\u001b[0mself\u001b[0m\u001b[0;34m.\u001b[0m\u001b[0mf\u001b[0m\u001b[0;34m,\u001b[0m \u001b[0;34m**\u001b[0m\u001b[0mself\u001b[0m\u001b[0;34m.\u001b[0m\u001b[0moptions\u001b[0m\u001b[0;34m)\u001b[0m  \u001b[0;31m# type: ignore[call-arg]\u001b[0m\u001b[0;34m\u001b[0m\u001b[0;34m\u001b[0m\u001b[0m\n\u001b[0m\u001b[1;32m   1041\u001b[0m \u001b[0;34m\u001b[0m\u001b[0m\n\u001b[1;32m   1042\u001b[0m     \u001b[0;32mdef\u001b[0m \u001b[0m_failover_to_python\u001b[0m\u001b[0;34m(\u001b[0m\u001b[0mself\u001b[0m\u001b[0;34m)\u001b[0m\u001b[0;34m:\u001b[0m\u001b[0;34m\u001b[0m\u001b[0;34m\u001b[0m\u001b[0m\n",
      "\u001b[0;32m/opt/conda/lib/python3.7/site-packages/pandas/io/parsers/c_parser_wrapper.py\u001b[0m in \u001b[0;36m__init__\u001b[0;34m(self, src, **kwds)\u001b[0m\n\u001b[1;32m     67\u001b[0m         \u001b[0mkwds\u001b[0m\u001b[0;34m[\u001b[0m\u001b[0;34m\"dtype\"\u001b[0m\u001b[0;34m]\u001b[0m \u001b[0;34m=\u001b[0m \u001b[0mensure_dtype_objs\u001b[0m\u001b[0;34m(\u001b[0m\u001b[0mkwds\u001b[0m\u001b[0;34m.\u001b[0m\u001b[0mget\u001b[0m\u001b[0;34m(\u001b[0m\u001b[0;34m\"dtype\"\u001b[0m\u001b[0;34m,\u001b[0m \u001b[0;32mNone\u001b[0m\u001b[0;34m)\u001b[0m\u001b[0;34m)\u001b[0m\u001b[0;34m\u001b[0m\u001b[0;34m\u001b[0m\u001b[0m\n\u001b[1;32m     68\u001b[0m         \u001b[0;32mtry\u001b[0m\u001b[0;34m:\u001b[0m\u001b[0;34m\u001b[0m\u001b[0;34m\u001b[0m\u001b[0m\n\u001b[0;32m---> 69\u001b[0;31m             \u001b[0mself\u001b[0m\u001b[0;34m.\u001b[0m\u001b[0m_reader\u001b[0m \u001b[0;34m=\u001b[0m \u001b[0mparsers\u001b[0m\u001b[0;34m.\u001b[0m\u001b[0mTextReader\u001b[0m\u001b[0;34m(\u001b[0m\u001b[0mself\u001b[0m\u001b[0;34m.\u001b[0m\u001b[0mhandles\u001b[0m\u001b[0;34m.\u001b[0m\u001b[0mhandle\u001b[0m\u001b[0;34m,\u001b[0m \u001b[0;34m**\u001b[0m\u001b[0mkwds\u001b[0m\u001b[0;34m)\u001b[0m\u001b[0;34m\u001b[0m\u001b[0;34m\u001b[0m\u001b[0m\n\u001b[0m\u001b[1;32m     70\u001b[0m         \u001b[0;32mexcept\u001b[0m \u001b[0mException\u001b[0m\u001b[0;34m:\u001b[0m\u001b[0;34m\u001b[0m\u001b[0;34m\u001b[0m\u001b[0m\n\u001b[1;32m     71\u001b[0m             \u001b[0mself\u001b[0m\u001b[0;34m.\u001b[0m\u001b[0mhandles\u001b[0m\u001b[0;34m.\u001b[0m\u001b[0mclose\u001b[0m\u001b[0;34m(\u001b[0m\u001b[0;34m)\u001b[0m\u001b[0;34m\u001b[0m\u001b[0;34m\u001b[0m\u001b[0m\n",
      "\u001b[0;32m/opt/conda/lib/python3.7/site-packages/pandas/_libs/parsers.pyx\u001b[0m in \u001b[0;36mpandas._libs.parsers.TextReader.__cinit__\u001b[0;34m()\u001b[0m\n",
      "\u001b[0;32m/opt/conda/lib/python3.7/site-packages/pandas/_libs/parsers.pyx\u001b[0m in \u001b[0;36mpandas._libs.parsers.TextReader._get_header\u001b[0;34m()\u001b[0m\n",
      "\u001b[0;32m/opt/conda/lib/python3.7/site-packages/pandas/_libs/parsers.pyx\u001b[0m in \u001b[0;36mpandas._libs.parsers.TextReader._tokenize_rows\u001b[0;34m()\u001b[0m\n",
      "\u001b[0;32m/opt/conda/lib/python3.7/site-packages/pandas/_libs/parsers.pyx\u001b[0m in \u001b[0;36mpandas._libs.parsers.raise_parser_error\u001b[0;34m()\u001b[0m\n",
      "\u001b[0;31mUnicodeDecodeError\u001b[0m: 'utf-8' codec can't decode byte 0x99 in position 443: invalid start byte"
     ]
    }
   ],
   "source": [
    "File  = '../input/superdata/Superstoredata.csv'\n",
    "df = pd.read_csv(File)\n",
    "\n",
    "import chardet\n",
    "with open(File,'rb') as rawdata:\n",
    "    result = chardet.detect(rawdata.read(100000))\n",
    "result\n",
    "\n"
   ]
  },
  {
   "cell_type": "code",
   "execution_count": null,
   "id": "cf609a63",
   "metadata": {
    "execution": {
     "iopub.execute_input": "2022-02-06T17:50:59.931320Z",
     "iopub.status.busy": "2022-02-06T17:50:59.930673Z",
     "iopub.status.idle": "2022-02-06T17:50:59.987803Z",
     "shell.execute_reply": "2022-02-06T17:50:59.987117Z",
     "shell.execute_reply.started": "2022-02-06T17:50:59.931276Z"
    },
    "papermill": {
     "duration": null,
     "end_time": null,
     "exception": null,
     "start_time": null,
     "status": "pending"
    },
    "tags": []
   },
   "outputs": [],
   "source": [
    "df = pd.read_csv(File, encoding='Windows-1252')\n",
    "df.head()"
   ]
  },
  {
   "cell_type": "code",
   "execution_count": null,
   "id": "eaae957b",
   "metadata": {
    "papermill": {
     "duration": null,
     "end_time": null,
     "exception": null,
     "start_time": null,
     "status": "pending"
    },
    "tags": []
   },
   "outputs": [],
   "source": []
  },
  {
   "cell_type": "markdown",
   "id": "f9554fc5",
   "metadata": {
    "papermill": {
     "duration": null,
     "end_time": null,
     "exception": null,
     "start_time": null,
     "status": "pending"
    },
    "tags": []
   },
   "source": [
    "# **Add a month colomn!******"
   ]
  },
  {
   "cell_type": "code",
   "execution_count": null,
   "id": "4809c68c",
   "metadata": {
    "_kg_hide-output": true,
    "execution": {
     "iopub.execute_input": "2022-02-06T17:51:08.299737Z",
     "iopub.status.busy": "2022-02-06T17:51:08.299240Z",
     "iopub.status.idle": "2022-02-06T17:51:08.331231Z",
     "shell.execute_reply": "2022-02-06T17:51:08.330348Z",
     "shell.execute_reply.started": "2022-02-06T17:51:08.299690Z"
    },
    "papermill": {
     "duration": null,
     "end_time": null,
     "exception": null,
     "start_time": null,
     "status": "pending"
    },
    "tags": []
   },
   "outputs": [],
   "source": [
    "df[\"Month\"] = df[\"Order Date\"].str[4:5]\n",
    "df[\"Month\"] = df[\"Month\"].astype(\"int32\")\n",
    "df.head()"
   ]
  },
  {
   "cell_type": "markdown",
   "id": "55be2f7a",
   "metadata": {
    "papermill": {
     "duration": null,
     "end_time": null,
     "exception": null,
     "start_time": null,
     "status": "pending"
    },
    "tags": []
   },
   "source": [
    "# **Add A Revenue Coloumn **"
   ]
  },
  {
   "cell_type": "code",
   "execution_count": null,
   "id": "ce116dc9",
   "metadata": {
    "execution": {
     "iopub.execute_input": "2022-02-06T17:51:17.772224Z",
     "iopub.status.busy": "2022-02-06T17:51:17.771940Z",
     "iopub.status.idle": "2022-02-06T17:51:17.802730Z",
     "shell.execute_reply": "2022-02-06T17:51:17.801539Z",
     "shell.execute_reply.started": "2022-02-06T17:51:17.772195Z"
    },
    "papermill": {
     "duration": null,
     "end_time": null,
     "exception": null,
     "start_time": null,
     "status": "pending"
    },
    "tags": []
   },
   "outputs": [],
   "source": [
    "df[\"Revenue\"] = df[\"Quantity ordered new\"] * df[\"Unit Price\"]\n",
    "df.head()"
   ]
  },
  {
   "cell_type": "markdown",
   "id": "f9bbcdf5",
   "metadata": {
    "papermill": {
     "duration": null,
     "end_time": null,
     "exception": null,
     "start_time": null,
     "status": "pending"
    },
    "tags": []
   },
   "source": [
    "# Adding a Cost per acquisition coloumn****"
   ]
  },
  {
   "cell_type": "markdown",
   "id": "1568db35",
   "metadata": {
    "papermill": {
     "duration": null,
     "end_time": null,
     "exception": null,
     "start_time": null,
     "status": "pending"
    },
    "tags": []
   },
   "source": []
  },
  {
   "cell_type": "code",
   "execution_count": null,
   "id": "dd368341",
   "metadata": {
    "execution": {
     "iopub.execute_input": "2022-02-06T17:51:24.209638Z",
     "iopub.status.busy": "2022-02-06T17:51:24.209367Z",
     "iopub.status.idle": "2022-02-06T17:51:24.242078Z",
     "shell.execute_reply": "2022-02-06T17:51:24.240892Z",
     "shell.execute_reply.started": "2022-02-06T17:51:24.209607Z"
    },
    "papermill": {
     "duration": null,
     "end_time": null,
     "exception": null,
     "start_time": null,
     "status": "pending"
    },
    "tags": []
   },
   "outputs": [],
   "source": [
    "df[\"Cost per acquisition\"] = df[\"Discount\"] + df[\"Shipping Cost\"] + df[\"Revenue\"]\n",
    "df.head()"
   ]
  },
  {
   "cell_type": "markdown",
   "id": "ad4a7b4a",
   "metadata": {
    "papermill": {
     "duration": null,
     "end_time": null,
     "exception": null,
     "start_time": null,
     "status": "pending"
    },
    "tags": []
   },
   "source": [
    "# Adding a Gross Profit Coloumn****"
   ]
  },
  {
   "cell_type": "markdown",
   "id": "ccb9b946",
   "metadata": {
    "papermill": {
     "duration": null,
     "end_time": null,
     "exception": null,
     "start_time": null,
     "status": "pending"
    },
    "tags": []
   },
   "source": []
  },
  {
   "cell_type": "code",
   "execution_count": null,
   "id": "97069be4",
   "metadata": {
    "execution": {
     "iopub.execute_input": "2022-02-06T17:51:30.555416Z",
     "iopub.status.busy": "2022-02-06T17:51:30.555103Z",
     "iopub.status.idle": "2022-02-06T17:51:30.588784Z",
     "shell.execute_reply": "2022-02-06T17:51:30.587670Z",
     "shell.execute_reply.started": "2022-02-06T17:51:30.555385Z"
    },
    "papermill": {
     "duration": null,
     "end_time": null,
     "exception": null,
     "start_time": null,
     "status": "pending"
    },
    "tags": []
   },
   "outputs": [],
   "source": [
    "df[\"Gross Profit\"] = df[\"Revenue\"] + df[\"Cost per acquisition\"]\n",
    "df.head()"
   ]
  },
  {
   "cell_type": "markdown",
   "id": "0c99e9d3",
   "metadata": {
    "papermill": {
     "duration": null,
     "end_time": null,
     "exception": null,
     "start_time": null,
     "status": "pending"
    },
    "tags": []
   },
   "source": [
    "# ****Adding A ROI coloumn****"
   ]
  },
  {
   "cell_type": "code",
   "execution_count": null,
   "id": "6d133e2a",
   "metadata": {
    "execution": {
     "iopub.execute_input": "2022-02-06T17:51:38.146927Z",
     "iopub.status.busy": "2022-02-06T17:51:38.146635Z",
     "iopub.status.idle": "2022-02-06T17:51:38.179359Z",
     "shell.execute_reply": "2022-02-06T17:51:38.178312Z",
     "shell.execute_reply.started": "2022-02-06T17:51:38.146898Z"
    },
    "papermill": {
     "duration": null,
     "end_time": null,
     "exception": null,
     "start_time": null,
     "status": "pending"
    },
    "tags": []
   },
   "outputs": [],
   "source": [
    "df[\"ROI\"] = df[\"Revenue\"] / df[\"Cost per acquisition\"]\n",
    "df.head()"
   ]
  },
  {
   "cell_type": "markdown",
   "id": "abb9f4bb",
   "metadata": {
    "papermill": {
     "duration": null,
     "end_time": null,
     "exception": null,
     "start_time": null,
     "status": "pending"
    },
    "tags": []
   },
   "source": [
    "# Adding a column Return on Sales ****"
   ]
  },
  {
   "cell_type": "code",
   "execution_count": null,
   "id": "5243bee8",
   "metadata": {
    "execution": {
     "iopub.execute_input": "2022-02-06T17:51:46.577510Z",
     "iopub.status.busy": "2022-02-06T17:51:46.577161Z",
     "iopub.status.idle": "2022-02-06T17:51:46.612174Z",
     "shell.execute_reply": "2022-02-06T17:51:46.611522Z",
     "shell.execute_reply.started": "2022-02-06T17:51:46.577477Z"
    },
    "papermill": {
     "duration": null,
     "end_time": null,
     "exception": null,
     "start_time": null,
     "status": "pending"
    },
    "tags": []
   },
   "outputs": [],
   "source": [
    "df[\"Return on Sales\"] = df[\"Profit\"] / df[\"Sales\"]\n",
    "df.head()"
   ]
  },
  {
   "cell_type": "markdown",
   "id": "d1110ba1",
   "metadata": {
    "papermill": {
     "duration": null,
     "end_time": null,
     "exception": null,
     "start_time": null,
     "status": "pending"
    },
    "tags": []
   },
   "source": [
    "# What is the best month for the Sales?****"
   ]
  },
  {
   "cell_type": "code",
   "execution_count": null,
   "id": "3ff5527d",
   "metadata": {
    "execution": {
     "iopub.execute_input": "2022-02-06T17:51:51.657068Z",
     "iopub.status.busy": "2022-02-06T17:51:51.656645Z",
     "iopub.status.idle": "2022-02-06T17:51:51.674191Z",
     "shell.execute_reply": "2022-02-06T17:51:51.673422Z",
     "shell.execute_reply.started": "2022-02-06T17:51:51.657023Z"
    },
    "papermill": {
     "duration": null,
     "end_time": null,
     "exception": null,
     "start_time": null,
     "status": "pending"
    },
    "tags": []
   },
   "outputs": [],
   "source": [
    "results = df.groupby('Month').sum()\n"
   ]
  },
  {
   "cell_type": "markdown",
   "id": "7addcc37",
   "metadata": {
    "papermill": {
     "duration": null,
     "end_time": null,
     "exception": null,
     "start_time": null,
     "status": "pending"
    },
    "tags": []
   },
   "source": []
  },
  {
   "cell_type": "code",
   "execution_count": null,
   "id": "b90b56e9",
   "metadata": {
    "execution": {
     "iopub.execute_input": "2022-02-06T17:51:55.064986Z",
     "iopub.status.busy": "2022-02-06T17:51:55.064607Z",
     "iopub.status.idle": "2022-02-06T17:51:55.265274Z",
     "shell.execute_reply": "2022-02-06T17:51:55.264299Z",
     "shell.execute_reply.started": "2022-02-06T17:51:55.064951Z"
    },
    "papermill": {
     "duration": null,
     "end_time": null,
     "exception": null,
     "start_time": null,
     "status": "pending"
    },
    "tags": []
   },
   "outputs": [],
   "source": [
    "import matplotlib.pyplot as plt\n",
    "months = range(1,7)\n",
    "plt.bar(months, results['Profit'])\n",
    "plt.xticks(months)\n",
    "plt.ylabel('Profit in USD ($)')\n",
    "plt.xlabel('Month Number')\n",
    "plt.show()"
   ]
  },
  {
   "cell_type": "markdown",
   "id": "29c7e9fb",
   "metadata": {
    "papermill": {
     "duration": null,
     "end_time": null,
     "exception": null,
     "start_time": null,
     "status": "pending"
    },
    "tags": []
   },
   "source": [
    "# Which Customer segment has the  highest number of sales?****"
   ]
  },
  {
   "cell_type": "code",
   "execution_count": null,
   "id": "203d33b2",
   "metadata": {
    "execution": {
     "iopub.execute_input": "2022-02-06T17:52:00.822128Z",
     "iopub.status.busy": "2022-02-06T17:52:00.821766Z",
     "iopub.status.idle": "2022-02-06T17:52:00.853215Z",
     "shell.execute_reply": "2022-02-06T17:52:00.852309Z",
     "shell.execute_reply.started": "2022-02-06T17:52:00.822092Z"
    },
    "papermill": {
     "duration": null,
     "end_time": null,
     "exception": null,
     "start_time": null,
     "status": "pending"
    },
    "tags": []
   },
   "outputs": [],
   "source": [
    "results = df.groupby('Customer Segment').sum()\n",
    "results"
   ]
  },
  {
   "cell_type": "code",
   "execution_count": null,
   "id": "b9c06fd3",
   "metadata": {
    "execution": {
     "iopub.execute_input": "2022-02-06T17:52:06.267231Z",
     "iopub.status.busy": "2022-02-06T17:52:06.266461Z",
     "iopub.status.idle": "2022-02-06T17:52:06.459019Z",
     "shell.execute_reply": "2022-02-06T17:52:06.458392Z",
     "shell.execute_reply.started": "2022-02-06T17:52:06.267181Z"
    },
    "papermill": {
     "duration": null,
     "end_time": null,
     "exception": null,
     "start_time": null,
     "status": "pending"
    },
    "tags": []
   },
   "outputs": [],
   "source": [
    "import matplotlib.pyplot as plt\n",
    "CS = range(1,5)\n",
    "plt.bar(CS, results['Profit'])\n",
    "plt.xticks(months)\n",
    "plt.ylabel('Profit in USD ($)')\n",
    "plt.xlabel('Custotmer Segemnt Number')\n",
    "plt.show()"
   ]
  },
  {
   "cell_type": "code",
   "execution_count": null,
   "id": "808cd616",
   "metadata": {
    "papermill": {
     "duration": null,
     "end_time": null,
     "exception": null,
     "start_time": null,
     "status": "pending"
    },
    "tags": []
   },
   "outputs": [],
   "source": []
  },
  {
   "cell_type": "markdown",
   "id": "d943670f",
   "metadata": {
    "papermill": {
     "duration": null,
     "end_time": null,
     "exception": null,
     "start_time": null,
     "status": "pending"
    },
    "tags": []
   },
   "source": [
    "# What products are often sold together****"
   ]
  },
  {
   "cell_type": "code",
   "execution_count": null,
   "id": "accfa420",
   "metadata": {
    "execution": {
     "iopub.execute_input": "2022-02-06T17:52:11.929109Z",
     "iopub.status.busy": "2022-02-06T17:52:11.928183Z",
     "iopub.status.idle": "2022-02-06T17:52:11.993821Z",
     "shell.execute_reply": "2022-02-06T17:52:11.993242Z",
     "shell.execute_reply.started": "2022-02-06T17:52:11.929064Z"
    },
    "papermill": {
     "duration": null,
     "end_time": null,
     "exception": null,
     "start_time": null,
     "status": "pending"
    },
    "tags": []
   },
   "outputs": [],
   "source": [
    "df1 = df[df['Order ID'].duplicated(keep=False)]\n",
    "df1['Grouped'] = df1.groupby('Order ID')['Product Name'].transform(lambda x: ','.join(x))\n",
    "df1 = df1[['Order ID','Grouped']].drop_duplicates()\n",
    "df1.head()"
   ]
  },
  {
   "cell_type": "code",
   "execution_count": null,
   "id": "21682d18",
   "metadata": {
    "execution": {
     "iopub.execute_input": "2022-02-06T18:04:48.416005Z",
     "iopub.status.busy": "2022-02-06T18:04:48.415385Z",
     "iopub.status.idle": "2022-02-06T18:04:48.429975Z",
     "shell.execute_reply": "2022-02-06T18:04:48.429162Z",
     "shell.execute_reply.started": "2022-02-06T18:04:48.415966Z"
    },
    "papermill": {
     "duration": null,
     "end_time": null,
     "exception": null,
     "start_time": null,
     "status": "pending"
    },
    "tags": []
   },
   "outputs": [],
   "source": [
    "from itertools  import combinations \n",
    "from collections import Counter\n",
    "\n",
    "count = Counter()\n",
    "for row in df1['Grouped']:\n",
    "    row_list = row.split(',')\n",
    "    count.update(Counter(combinations(row_list,3)))\n",
    "    \n",
    "for key, value in count.most_common(10):\n",
    "    print(key, value)"
   ]
  },
  {
   "cell_type": "markdown",
   "id": "75b958eb",
   "metadata": {
    "papermill": {
     "duration": null,
     "end_time": null,
     "exception": null,
     "start_time": null,
     "status": "pending"
    },
    "tags": []
   },
   "source": [
    "# What product sold the most and why do you think sold the most?****"
   ]
  },
  {
   "cell_type": "code",
   "execution_count": null,
   "id": "1a4d9e9e",
   "metadata": {
    "execution": {
     "iopub.execute_input": "2022-02-06T18:07:57.346851Z",
     "iopub.status.busy": "2022-02-06T18:07:57.346455Z",
     "iopub.status.idle": "2022-02-06T18:07:57.386531Z",
     "shell.execute_reply": "2022-02-06T18:07:57.385565Z",
     "shell.execute_reply.started": "2022-02-06T18:07:57.346815Z"
    },
    "papermill": {
     "duration": null,
     "end_time": null,
     "exception": null,
     "start_time": null,
     "status": "pending"
    },
    "tags": []
   },
   "outputs": [],
   "source": [
    "df.head()"
   ]
  },
  {
   "cell_type": "code",
   "execution_count": null,
   "id": "7059a68c",
   "metadata": {
    "execution": {
     "iopub.execute_input": "2022-02-06T18:11:18.363373Z",
     "iopub.status.busy": "2022-02-06T18:11:18.362598Z",
     "iopub.status.idle": "2022-02-06T18:11:18.412487Z",
     "shell.execute_reply": "2022-02-06T18:11:18.411451Z",
     "shell.execute_reply.started": "2022-02-06T18:11:18.363335Z"
    },
    "papermill": {
     "duration": null,
     "end_time": null,
     "exception": null,
     "start_time": null,
     "status": "pending"
    },
    "tags": []
   },
   "outputs": [],
   "source": [
    "product_group = df.groupby('Product Name')\n",
    "product_group.sum()"
   ]
  },
  {
   "cell_type": "code",
   "execution_count": null,
   "id": "2ebac28c",
   "metadata": {
    "execution": {
     "iopub.execute_input": "2022-02-06T18:25:51.702892Z",
     "iopub.status.busy": "2022-02-06T18:25:51.702100Z",
     "iopub.status.idle": "2022-02-06T18:25:51.709605Z",
     "shell.execute_reply": "2022-02-06T18:25:51.708579Z",
     "shell.execute_reply.started": "2022-02-06T18:25:51.702850Z"
    },
    "papermill": {
     "duration": null,
     "end_time": null,
     "exception": null,
     "start_time": null,
     "status": "pending"
    },
    "tags": []
   },
   "outputs": [],
   "source": [
    "product_group = df.groupby('Product Name')\n",
    "quantity_ordered =  product_group.sum()['Quantity ordered new']\n",
    "\n",
    "products = [Product Name for Product Name, df in product_group]\n",
    "\n",
    "plt.bar(products, quantity_ordered)\n",
    "plt.ylabel('# ordered')\n",
    "plt.xticks(products, rotation='vertical', size=s)\n",
    "plt.show()"
   ]
  },
  {
   "cell_type": "code",
   "execution_count": null,
   "id": "a586238e",
   "metadata": {
    "execution": {
     "iopub.execute_input": "2022-02-06T18:46:25.634526Z",
     "iopub.status.busy": "2022-02-06T18:46:25.634105Z",
     "iopub.status.idle": "2022-02-06T18:46:25.931459Z",
     "shell.execute_reply": "2022-02-06T18:46:25.930551Z",
     "shell.execute_reply.started": "2022-02-06T18:46:25.634498Z"
    },
    "papermill": {
     "duration": null,
     "end_time": null,
     "exception": null,
     "start_time": null,
     "status": "pending"
    },
    "tags": []
   },
   "outputs": [],
   "source": [
    "Prices = df.groupby('Product Name').mean()['Unit Price']\n",
    "\n",
    "fig, ax1 = plt.subplots()\n",
    "ax2 = ax1.twinx()\n",
    "ax1.bar(Products, quantity_ordered)\n",
    "ax2.plot(products, y2, 'b-')\n",
    "\n",
    "ax1.set_xlabel('X data')\n",
    "ax1.set_ylabel('Y1 data', color='g')\n",
    "ax2.set_ylabel('Y2 data', color='b')\n",
    "\n",
    "plt.show()"
   ]
  }
 ],
 "metadata": {
  "kernelspec": {
   "display_name": "Python 3",
   "language": "python",
   "name": "python3"
  },
  "language_info": {
   "codemirror_mode": {
    "name": "ipython",
    "version": 3
   },
   "file_extension": ".py",
   "mimetype": "text/x-python",
   "name": "python",
   "nbconvert_exporter": "python",
   "pygments_lexer": "ipython3",
   "version": "3.7.12"
  },
  "papermill": {
   "default_parameters": {},
   "duration": 9.669419,
   "end_time": "2022-02-06T18:48:31.783337",
   "environment_variables": {},
   "exception": true,
   "input_path": "__notebook__.ipynb",
   "output_path": "__notebook__.ipynb",
   "parameters": {},
   "start_time": "2022-02-06T18:48:22.113918",
   "version": "2.3.3"
  }
 },
 "nbformat": 4,
 "nbformat_minor": 5
}
